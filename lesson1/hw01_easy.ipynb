{
 "cells": [
  {
   "cell_type": "code",
   "execution_count": 1,
   "metadata": {},
   "outputs": [],
   "source": [
    "__author__ = 'Герасимов Михаил Сергеевич'"
   ]
  },
  {
   "cell_type": "code",
   "execution_count": 46,
   "metadata": {},
   "outputs": [
    {
     "name": "stdout",
     "output_type": "stream",
     "text": [
      "Введите произвольное целое число: -034\n",
      "3\n",
      "4\n"
     ]
    }
   ],
   "source": [
    "# Задача-1: Дано произвольное целое число, вывести поочередно цифры исходного числа\n",
    "# Решение\n",
    "a = int(input (\"Введите произвольное целое число: \")) # int нужен на случай ввода лидирующих нулей\n",
    "a = str(a)\n",
    "if int(a) >= 0:\n",
    "    i = 0\n",
    "    while i < len(a):\n",
    "        print(a[i])\n",
    "        i += 1\n",
    "else:\n",
    "    i = 1 # чтобы минус не выводить, если ввели отрицательное число\n",
    "    while i < len(a):\n",
    "        print(a[i])\n",
    "        i += 1"
   ]
  },
  {
   "cell_type": "code",
   "execution_count": 47,
   "metadata": {},
   "outputs": [
    {
     "name": "stdout",
     "output_type": "stream",
     "text": [
      "Введите произвольное значение a: 25\n",
      "Введите произвольное значение b: test\n",
      "до: 25 test\n",
      "после: test 25\n"
     ]
    }
   ],
   "source": [
    "# Задача-2: Исходные значения двух переменных запросить у пользователя.\n",
    "# Поменять значения переменных местами. Вывести новые значения на экран.\n",
    "# Не нужно решать задачу так:\n",
    "# print(\"a = \", b, \"b = \", a) - это неправильное решение!\n",
    "# Решение\n",
    "a = input (\"Введите произвольное значение a: \")\n",
    "b = input (\"Введите произвольное значение b: \")\n",
    "\n",
    "print(\"до:\",a,b)\n",
    "b1 = b\n",
    "\n",
    "b = a\n",
    "a = b1\n",
    "print(\"после:\",a,b)"
   ]
  },
  {
   "cell_type": "code",
   "execution_count": 48,
   "metadata": {},
   "outputs": [
    {
     "name": "stdout",
     "output_type": "stream",
     "text": [
      "Сколько Вам полных лет: 035\n",
      "Доступ разрешен\n"
     ]
    }
   ],
   "source": [
    "# Задача-3: Запросите у пользователя его возраст.\n",
    "# Если ему есть 18 лет, выведите: \"Доступ разрешен\",\n",
    "# иначе \"Извините, пользование данным ресурсом только с 18 лет\"\n",
    "# Решение\n",
    "a = input (\"Сколько Вам полных лет: \")\n",
    "if int(a) >= 18:\n",
    "    print('Доступ разрешен')\n",
    "else:\n",
    "    print('Извините, пользование данным ресурсом только с 18 лет')"
   ]
  },
  {
   "cell_type": "code",
   "execution_count": null,
   "metadata": {},
   "outputs": [],
   "source": []
  }
 ],
 "metadata": {
  "kernelspec": {
   "display_name": "Python 3",
   "language": "python",
   "name": "python3"
  },
  "language_info": {
   "codemirror_mode": {
    "name": "ipython",
    "version": 3
   },
   "file_extension": ".py",
   "mimetype": "text/x-python",
   "name": "python",
   "nbconvert_exporter": "python",
   "pygments_lexer": "ipython3",
   "version": "3.6.5"
  }
 },
 "nbformat": 4,
 "nbformat_minor": 2
}
