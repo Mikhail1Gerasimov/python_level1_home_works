{
 "cells": [
  {
   "cell_type": "code",
   "execution_count": 42,
   "metadata": {},
   "outputs": [
    {
     "name": "stdout",
     "output_type": "stream",
     "text": [
      "1.                          яблоко\n",
      "2.                           банан\n",
      "3.                            киви\n",
      "4.                           арбуз\n",
      "5. фрукт с самым длинным названием\n"
     ]
    }
   ],
   "source": [
    "# Задача-1:\n",
    "# Дан список фруктов.\n",
    "# Напишите программу, выводящую фрукты в виде нумерованного списка,\n",
    "# выровненного по правой стороне.\n",
    "\n",
    "# Пример:\n",
    "# Дано: [\"яблоко\", \"банан\", \"киви\", \"арбуз\"]\n",
    "# Вывод:\n",
    "# 1. яблоко\n",
    "# 2.  банан\n",
    "# 3.   киви\n",
    "# 4.  арбуз\n",
    "\n",
    "# Подсказка: воспользоваться методом .format()\n",
    "# Решение\n",
    "list = [\"яблоко\", \"банан\", \"киви\", \"арбуз\",\"фрукт с самым длинным названием\"]\n",
    "for counter, element in enumerate(list):\n",
    "    print('{}{}{:>32}'.format(str(counter+1),'.',element))\n",
    "    \n",
    "\n",
    "# Вопрос: Как вместо width=32 поставить значение max_element_length+1, полученное ниже?\n",
    "#list = [\"яблоко\", \"банан\", \"киви\", \"арбуз\",\"фрукт с самым длинным названием\"]\n",
    "#max_element_length = 0\n",
    "#for element in list:\n",
    "#    if len(element) > max_element_length:\n",
    "#        max_element_length = len(element)\n",
    "#print('max_element_length=',max_element_length)"
   ]
  },
  {
   "cell_type": "code",
   "execution_count": 53,
   "metadata": {},
   "outputs": [
    {
     "name": "stdout",
     "output_type": "stream",
     "text": [
      "list1= ['яблоко', 'банан', 'киви', 'арбуз', 1]\n",
      "list2= ['банан', 'киви', 1, 2, 3, 'огурец']\n",
      "list1= ['яблоко', 'арбуз']\n"
     ]
    }
   ],
   "source": [
    "# Задача-2:\n",
    "# Даны два произвольные списка.\n",
    "# Удалите из первого списка элементы, присутствующие во втором списке.\n",
    "# Решение\n",
    "list1 = [\"яблоко\", \"банан\", \"киви\", \"арбуз\",1]\n",
    "list2 = [\"банан\", \"киви\",1,2,3,\"огурец\"]\n",
    "\n",
    "print('list1=',list1)\n",
    "print('list2=',list2)\n",
    "for l2 in list2:\n",
    "    if l2 in list1:\n",
    "        list1.remove(l2)\n",
    "print('list1=',list1)"
   ]
  },
  {
   "cell_type": "code",
   "execution_count": 56,
   "metadata": {},
   "outputs": [
    {
     "name": "stdout",
     "output_type": "stream",
     "text": [
      "list1= [1, 2, 3, 4, 5, 6, 7, 8, 9, 10, 11]\n",
      "list1_new= [2, 0.5, 6, 1.0, 10, 1.5, 14, 2.0, 18, 2.5, 22]\n"
     ]
    }
   ],
   "source": [
    "# Задача-3:\n",
    "# Дан произвольный список из целых чисел.\n",
    "# Получите НОВЫЙ список из элементов исходного, выполнив следующие условия:\n",
    "# если элемент кратен двум, то разделить его на 4, если не кратен, то умножить на два.\n",
    "# Решение\n",
    "list1 = [1,2,3,4,5,6,7,8,9,10,11]\n",
    "list1_new = []\n",
    "for el in list1:\n",
    "    if el % 2 == 0:\n",
    "        list1_new.append(el/4)\n",
    "    else:\n",
    "        list1_new.append(el*2)\n",
    "print('list1=',list1)\n",
    "print('list1_new=',list1_new)"
   ]
  }
 ],
 "metadata": {
  "kernelspec": {
   "display_name": "Python 3",
   "language": "python",
   "name": "python3"
  },
  "language_info": {
   "codemirror_mode": {
    "name": "ipython",
    "version": 3
   },
   "file_extension": ".py",
   "mimetype": "text/x-python",
   "name": "python",
   "nbconvert_exporter": "python",
   "pygments_lexer": "ipython3",
   "version": "3.6.5"
  }
 },
 "nbformat": 4,
 "nbformat_minor": 2
}
