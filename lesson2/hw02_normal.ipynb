{
 "cells": [
  {
   "cell_type": "code",
   "execution_count": 9,
   "metadata": {},
   "outputs": [
    {
     "name": "stdout",
     "output_type": "stream",
     "text": [
      "lst= [2, -5, 8, 9, -25, 25, 4]\n",
      "lst_new= [3, 5, 2]\n"
     ]
    }
   ],
   "source": [
    "# Задача-1:\n",
    "# Дан список, заполненный произвольными целыми числами, получите новый список,\n",
    "# элементами которого будут квадратные корни элементов исходного списка,\n",
    "# но только если результаты извлечения корня не имеют десятичной части и\n",
    "# если такой корень вообще можно извлечь\n",
    "# Пример: Дано: [2, -5, 8, 9, -25, 25, 4]   Результат: [3, 5, 2]\n",
    "# Решение\n",
    "import math\n",
    "lst = [2, -5, 8, 9, -25, 25, 4]\n",
    "lst_new = []\n",
    "for el in lst:\n",
    "    if el >= 0 and math.sqrt(el) == int(math.sqrt(el)):\n",
    "        lst_new.append(int(math.sqrt(el)))\n",
    "print('lst=',lst)\n",
    "print('lst_new=',lst_new)"
   ]
  },
  {
   "cell_type": "code",
   "execution_count": 42,
   "metadata": {},
   "outputs": [
    {
     "name": "stdout",
     "output_type": "stream",
     "text": [
      "17.05.2013\n",
      "семнадцатое мая 2013 года\n"
     ]
    }
   ],
   "source": [
    "# Задача-2: Дана дата в формате dd.mm.yyyy, например: 02.11.2013.\n",
    "# Ваша задача вывести дату в текстовом виде, например: второе ноября 2013 года.\n",
    "# Склонением пренебречь (2000 года, 2010 года)\n",
    "# Решение\n",
    "date_str = '17.05.2013'\n",
    "el_1_10 = {'1':'первое', '2':'второе', '3':'третье', '4':'четвёртое', '5':'пятое',\n",
    "           '6':'шестое', '7':'седьмое', '8':'восьмое', '9':'девятое', '10':'десятое'}\n",
    "\n",
    "el_11_20_30_31 = {'11':'одиннадцатое', '12':'двенадцатое', '13':'тринадцатое', '14':'четырнадцатое', '15':'пятнадцатое',\n",
    "                  '16':'шестнадцатое', '17':'семнадцатое', '18':'восмнадцатое', '19':'девятнадцатое', '20':'двадцатое',\n",
    "                  '30':'тридцатое', '31':'тридцать первое'}\n",
    "\n",
    "months = {'01':'января', '02':'февраля', '03':'марта', '04':'апреля', '05':'мая','06':'июня',\n",
    "          '07':'июля', '08':'августа', '09':'сентября', '10':'октября', '11':'ноября', '12':'декабря'}\n",
    "\n",
    "print(date_str)\n",
    "if int(date_str[:2]) <= 10:\n",
    "    print('{} {} {} года'.format(el_1_10[date_str[1:2]],months[date_str[3:5]],date_str[6:]))\n",
    "elif (int(date_str[:2]) > 10 and int(date_str[:2]) <= 20) or int(date_str[:2]) >= 30:\n",
    "    print('{} {} {} года'.format(el_11_20_30_31[date_str[:2]],months[date_str[3:5]],date_str[6:]))\n",
    "else:\n",
    "    print('двадцать {} {} {} года'.format(el_1_10[date_str[1:2]],months[date_str[3:5]],date_str[6:]))\n",
    "\n",
    "    \n",
    "\n",
    "    \n"
   ]
  },
  {
   "cell_type": "code",
   "execution_count": 49,
   "metadata": {},
   "outputs": [
    {
     "name": "stdout",
     "output_type": "stream",
     "text": [
      "Введите n:7\n",
      "[26, 60, -74, 95, 37, -3, -57]\n",
      "7\n"
     ]
    }
   ],
   "source": [
    "# Задача-3: Напишите алгоритм, заполняющий список произвольными целыми числами\n",
    "# в диапазоне от -100 до 100. В списке должно быть n - элементов.\n",
    "# Подсказка:\n",
    "# для получения случайного числа используйте функцию randint() модуля random\n",
    "# Решение\n",
    "import random\n",
    "lst = []\n",
    "n = input('Введите n:')\n",
    "i = 0 \n",
    "while i < int(n):\n",
    "    lst.append(random.randint(-100,100))\n",
    "    i += 1\n",
    "print(lst)\n",
    "print(len(lst))\n"
   ]
  },
  {
   "cell_type": "code",
   "execution_count": 57,
   "metadata": {},
   "outputs": [
    {
     "name": "stdout",
     "output_type": "stream",
     "text": [
      "Решение a)\n",
      "[1, 2, 4, 5, 6]\n",
      "\n",
      "Решение б)\n",
      "[1, 4, 6]\n"
     ]
    }
   ],
   "source": [
    "# Задача-4: Дан список, заполненный произвольными целыми числами.\n",
    "# Получите новый список, элементами которого будут: \n",
    "# а) неповторяющиеся элементы исходного списка:\n",
    "# например, lst = [1, 2, 4, 5, 6, 2, 5, 2], нужно получить lst2 = [1, 2, 4, 5, 6]\n",
    "# б) элементы исходного списка, которые не имеют повторений:\n",
    "# например, lst = [1 , 2, 4, 5, 6, 2, 5, 2], нужно получить lst2 = [1, 4, 6]\n",
    "\n",
    "# Решение\n",
    "print('Решение a)')\n",
    "lst = [1, 2, 4, 5, 6, 2, 5, 2]\n",
    "lst2 = list(set(lst))\n",
    "print(lst2)\n",
    "\n",
    "print('')\n",
    "print('Решение б)')\n",
    "lst2 = []\n",
    "for el in lst:\n",
    "    if lst.count(el) == 1:\n",
    "        lst2.append(el)\n",
    "print(lst2)"
   ]
  },
  {
   "cell_type": "code",
   "execution_count": null,
   "metadata": {},
   "outputs": [],
   "source": []
  }
 ],
 "metadata": {
  "kernelspec": {
   "display_name": "Python 3",
   "language": "python",
   "name": "python3"
  },
  "language_info": {
   "codemirror_mode": {
    "name": "ipython",
    "version": 3
   },
   "file_extension": ".py",
   "mimetype": "text/x-python",
   "name": "python",
   "nbconvert_exporter": "python",
   "pygments_lexer": "ipython3",
   "version": "3.6.5"
  }
 },
 "nbformat": 4,
 "nbformat_minor": 2
}
