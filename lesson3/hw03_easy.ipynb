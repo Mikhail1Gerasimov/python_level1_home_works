{
 "cells": [
  {
   "cell_type": "code",
   "execution_count": 89,
   "metadata": {},
   "outputs": [
    {
     "name": "stdout",
     "output_type": "stream",
     "text": [
      "2.1234867 2.12349 2.12349\n",
      "2.1234567 2.12346 2.12346\n",
      "2.1999967 2.2 2.2\n",
      "2.9999967 3.0 3.0\n",
      "2.9999967 3 3.0\n"
     ]
    }
   ],
   "source": [
    "# Задание-1:\n",
    "# Напишите функцию, округляющую полученное произвольное десятичное число\n",
    "# до кол-ва знаков (кол-во знаков передается вторым аргументом).\n",
    "# Округление должно происходить по математическим правилам (0.6 --> 1, 0.4 --> 0).\n",
    "# Для решения задачи не используйте встроенные функции и функции из модуля math.\n",
    "# Решение \n",
    "'''\n",
    "Правила округления\n",
    "Первое правило\n",
    "Если первая из отделяемых цифр больше, чем число 5, то последняя из оставляемых цифр усиливается, иначе говоря, \n",
    "увеличивается на единицу. Усиление так же предполагается и тогда, когда первая из убираемых цифр равна 5, \n",
    "а за ней имеется одна или некоторое количество значащих цифр.\n",
    "\n",
    "Второе правило\n",
    "В случае если первая из отсекаемых цифр меньше чем 5, то усиления не производится.\n",
    "\n",
    "Третье правило\n",
    "Если отсекается цифра 5, а за ней не имеется значащих цифр, то округление выполняется на ближайшее четное число, \n",
    "другими словами, последняя оставляемая цифра остаётся неизменной, если она четная, и усиливается в случае, \n",
    "если она нечетная.\n",
    "\n",
    "'''\n",
    "def my_round(number, ndigits):\n",
    "    num_str = str(number)\n",
    "    if int(num_str[ndigits+2]) > 5:\n",
    "        rounded = float(num_str[:ndigits+2])+float(1/int('1'+(int(ndigits)*'0')))\n",
    "    elif int(num_str[ndigits+2]) == 5:\n",
    "        if int(num_str[ndigits+3:]) > 0:\n",
    "            rounded = float(num_str[:ndigits+2])+float(1/int('1'+(int(ndigits)*'0')))\n",
    "        elif int(num_str[ndigits+2]) % 2 == 1:\n",
    "            rounded = float(num_str[:ndigits+2])+float(1/int('1'+(int(ndigits)*'0')))\n",
    "    else:\n",
    "        rounded = float(num_str[:ndigits+2])\n",
    "    \n",
    "    if ndigits == 0:\n",
    "        return int(rounded)\n",
    "    else:\n",
    "        return rounded\n",
    "    \n",
    "\n",
    "n,d=2.1234867,5\n",
    "print(n,my_round(n, d),round(n, d))\n",
    "\n",
    "n,d=2.1234567,5\n",
    "print(n,my_round(n, d),round(n, d))\n",
    "\n",
    "n,d=2.1999967,5\n",
    "print(n,my_round(n, d),round(n, d))\n",
    "\n",
    "n,d=2.9999967,5\n",
    "print(n,my_round(n, d),round(n, d))\n",
    "\n",
    "n,d=2.9999967,0\n",
    "print(n,my_round(n, d),round(n, d))"
   ]
  },
  {
   "cell_type": "code",
   "execution_count": 129,
   "metadata": {},
   "outputs": [],
   "source": [
    "# Задание-2:\n",
    "# Дан шестизначный номер билета. Определить, является ли билет счастливым.\n",
    "# Решение реализовать в виде функции.\n",
    "# Билет считается счастливым, если сумма его первых и последних цифр равны.\n",
    "# !!!P.S.: функция не должна НИЧЕГО print'ить\n",
    "\n",
    "# Решение - не разобрался как НИЧЕГО print'ить\n",
    "def lucky_ticket(ticket_number):\n",
    "    num_str = str(ticket_number)\n",
    "    left = 0\n",
    "    right = 0\n",
    "    for dig in num_str[:3]:\n",
    "        left += int(dig)\n",
    "    for dig in num_str[3:]:\n",
    "        right += int(dig)\n",
    "    if left == right:\n",
    "        return 'lucky'\n",
    "    else:\n",
    "        return 'not_lucky'\n",
    "\n",
    "\n",
    "a=lucky_ticket(123006)\n",
    "b=lucky_ticket(436751)\n",
    "c=lucky_ticket(12321)"
   ]
  },
  {
   "cell_type": "code",
   "execution_count": 130,
   "metadata": {},
   "outputs": [
    {
     "name": "stdout",
     "output_type": "stream",
     "text": [
      "lucky\n",
      "lucky\n",
      "not_lucky\n"
     ]
    }
   ],
   "source": [
    "print(a)\n",
    "print(b)\n",
    "print(c)"
   ]
  }
 ],
 "metadata": {
  "kernelspec": {
   "display_name": "Python 3",
   "language": "python",
   "name": "python3"
  },
  "language_info": {
   "codemirror_mode": {
    "name": "ipython",
    "version": 3
   },
   "file_extension": ".py",
   "mimetype": "text/x-python",
   "name": "python",
   "nbconvert_exporter": "python",
   "pygments_lexer": "ipython3",
   "version": "3.6.5"
  }
 },
 "nbformat": 4,
 "nbformat_minor": 2
}
