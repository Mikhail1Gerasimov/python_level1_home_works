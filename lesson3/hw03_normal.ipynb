{
 "cells": [
  {
   "cell_type": "code",
   "execution_count": 3,
   "metadata": {},
   "outputs": [
    {
     "name": "stdout",
     "output_type": "stream",
     "text": [
      "[3, 5, 8, 13]\n",
      "[1, 1, 2, 3, 5, 8, 13, 21, 34, 55]\n"
     ]
    }
   ],
   "source": [
    "# Задание-1:\n",
    "# Напишите функцию, возвращающую ряд Фибоначчи с n-элемента до m-элемента.\n",
    "# Первыми элементами ряда считать цифры 1 1\n",
    "# Решение\n",
    "def fibonacci(n, m):\n",
    "    fib = [1,1]\n",
    "    for i in range(2,m,1):\n",
    "        fib.append(fib[i-1]+fib[i-2])\n",
    "    return fib[n-1:m+1]\n",
    "print(fibonacci(4, 7))\n",
    "print(fibonacci(1, 10))"
   ]
  },
  {
   "cell_type": "code",
   "execution_count": 24,
   "metadata": {},
   "outputs": [
    {
     "data": {
      "text/plain": [
       "[-12, -11, 0, 2, 2.5, 4, 4, 10, 20]"
      ]
     },
     "execution_count": 24,
     "metadata": {},
     "output_type": "execute_result"
    }
   ],
   "source": [
    "# Задача-2:\n",
    "# Напишите функцию, сортирующую принимаемый список по возрастанию.\n",
    "# Для сортировки используйте любой алгоритм (например пузырьковый).\n",
    "# Для решения данной задачи нельзя использовать встроенную функцию и метод sort()\n",
    "\n",
    "\n",
    "def sort_to_max(origin_list):\n",
    "    \n",
    "    def min_finder(in_list):\n",
    "        min_el = in_list[0]\n",
    "        for el in in_list:\n",
    "            if min_el > el:\n",
    "                min_el = el\n",
    "        return min_el\n",
    "    \n",
    "    sorted_list = []\n",
    "    lst = origin_list\n",
    "    while lst != []:\n",
    "        sorted_list.append(min_finder(lst))\n",
    "        lst.remove(min_finder(lst))\n",
    "        \n",
    "    return sorted_list\n",
    "            \n",
    "\n",
    "sort_to_max([2, 10, -12, 2.5, 20, -11, 4, 4, 0])"
   ]
  },
  {
   "cell_type": "code",
   "execution_count": null,
   "metadata": {},
   "outputs": [],
   "source": []
  },
  {
   "cell_type": "code",
   "execution_count": 36,
   "metadata": {},
   "outputs": [
    {
     "name": "stdout",
     "output_type": "stream",
     "text": [
      "[1, 2, 12]\n",
      "[-4, 12]\n",
      "[-4, 12]\n"
     ]
    }
   ],
   "source": [
    "# Задача-3:\n",
    "# Напишите собственную реализацию стандартной функции filter.\n",
    "# Разумеется, внутри нельзя использовать саму функцию filter.\n",
    "# Решение\n",
    "def filter_my_func(func,iterator):\n",
    "    iterator_final = []\n",
    "    \n",
    "    for el in iterator:\n",
    "        if func(el) == True:\n",
    "            iterator_final.append(el)\n",
    "    return iterator_final\n",
    "\n",
    "\n",
    "def func(x):\n",
    "    return x > 0\n",
    "f1=func\n",
    "print(filter_my_func(f1,[1,2,-1,-4,0,12]))\n",
    "\n",
    "def func(x):\n",
    "    return x**2 > 4\n",
    "f2=func\n",
    "print(filter_my_func(f2,[1,2,-1,-4,0,12]))\n",
    "\n",
    "print(filter_my_func(lambda x: x**2 > 4,[1,2,-1,-4,0,12]))\n"
   ]
  },
  {
   "cell_type": "code",
   "execution_count": 24,
   "metadata": {},
   "outputs": [
    {
     "name": "stdout",
     "output_type": "stream",
     "text": [
      "[1, 3, 5, 3.45, 'ddd', 's', 333]\n"
     ]
    }
   ],
   "source": [
    "my_list = ( 1 , 3 , 5 , 3.45 , 'ddd' , 's' , 333)\n",
    "print(list(my_list))"
   ]
  },
  {
   "cell_type": "code",
   "execution_count": 45,
   "metadata": {},
   "outputs": [
    {
     "name": "stdout",
     "output_type": "stream",
     "text": [
      "параллелограмм\n"
     ]
    }
   ],
   "source": [
    "# Задача-4:\n",
    "# Даны четыре точки А1(х1, у1), А2(x2 ,у2), А3(x3 , у3), А4(х4, у4).\n",
    "# Определить, будут ли они вершинами параллелограмма.\n",
    "# Решение\n",
    "'''\n",
    "Если в четырехугольнике противоположные стороны попарно равны, то этот четырехугольник — параллелограмм. \n",
    "'''\n",
    "A1 = (0,0)\n",
    "A2 = (1,1)\n",
    "A3 = (5,1)\n",
    "A4 = (4,0)\n",
    "\n",
    "def side_len_sq(cor1,cor2):\n",
    "    return (cor1[0]-cor2[0])**2+(cor1[1]-cor2[1])**2\n",
    "\n",
    "if side_len_sq(A1,A2) == side_len_sq(A3,A4) and side_len_sq(A2,A3) == side_len_sq(A4,A1):\n",
    "    print('параллелограмм')\n",
    "elif side_len_sq(A1,A3) == side_len_sq(A2,A4) and side_len_sq(A2,A3) == side_len_sq(A4,A1):\n",
    "    print('параллелограмм')\n",
    "else:\n",
    "    print('не параллелограмм')\n",
    "                \n",
    "    "
   ]
  }
 ],
 "metadata": {
  "kernelspec": {
   "display_name": "Python 3",
   "language": "python",
   "name": "python3"
  },
  "language_info": {
   "codemirror_mode": {
    "name": "ipython",
    "version": 3
   },
   "file_extension": ".py",
   "mimetype": "text/x-python",
   "name": "python",
   "nbconvert_exporter": "python",
   "pygments_lexer": "ipython3",
   "version": "3.6.5"
  }
 },
 "nbformat": 4,
 "nbformat_minor": 2
}
