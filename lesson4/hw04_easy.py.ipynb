{
 "cells": [
  {
   "cell_type": "code",
   "execution_count": 25,
   "metadata": {},
   "outputs": [
    {
     "data": {
      "text/plain": [
       "[1, 4, 16, 0]"
      ]
     },
     "execution_count": 25,
     "metadata": {},
     "output_type": "execute_result"
    }
   ],
   "source": [
    "# Все задачи текущего блока решите с помощью генераторов списков!\n",
    "\n",
    "# Задание-1:\n",
    "# Дан список, заполненный произвольными целыми числами. \n",
    "# Получить новый список, элементы которого будут\n",
    "# квадратами элементов исходного списка\n",
    "# [1, 2, 4, 0] --> [1, 4, 16, 0]\n",
    "\n",
    "# Решение:\n",
    "lst = [1, 2, 4, 0]\n",
    "lst_new = [el**2 for el in lst]\n",
    "lst_new"
   ]
  },
  {
   "cell_type": "code",
   "execution_count": 26,
   "metadata": {},
   "outputs": [
    {
     "data": {
      "text/plain": [
       "['банан', 'киви', 1]"
      ]
     },
     "execution_count": 26,
     "metadata": {},
     "output_type": "execute_result"
    }
   ],
   "source": [
    "# Задание-2:\n",
    "# Даны два списка фруктов.\n",
    "# Получить список фруктов, присутствующих в обоих исходных списках.\n",
    "# Решение\n",
    "list1 = [\"яблоко\", \"банан\", \"киви\", \"арбуз\",1]\n",
    "list2 = [\"банан\", \"киви\",1,2,3,\"огурец\"]\n",
    "lst_new = [el for el in list1 if el in list2]\n",
    "lst_new"
   ]
  },
  {
   "cell_type": "code",
   "execution_count": null,
   "metadata": {},
   "outputs": [],
   "source": []
  },
  {
   "cell_type": "code",
   "execution_count": 8,
   "metadata": {},
   "outputs": [
    {
     "name": "stdout",
     "output_type": "stream",
     "text": [
      "[-11, 2, 4, 0, 5, 6, 7, 8, 33, 21, 16, -1, -212, -2, 12]\n",
      "[2, 4, 5, 6, 7, 8, 33, 21, 16, 12]\n",
      "[6, 33, 21, 12]\n",
      "[6, 33, 21]\n"
     ]
    }
   ],
   "source": [
    "# Задание-3:\n",
    "# Дан список, заполненный произвольными числами.\n",
    "# Получить список из элементов исходного, удовлетворяющих следующим условиям:\n",
    "# + Элемент кратен 3\n",
    "# + Элемент положительный\n",
    "# + Элемент не кратен 4\n",
    "# Решение\n",
    "lst = [-11, 2, 4, 0,5,6,7,8,33,21,16,-1,-212,-2,12]\n",
    "print(lst)\n",
    "lst_positive = [el for el in lst if el > 0]\n",
    "print(lst_positive)\n",
    "lst_mult_3 = [el for el in lst_positive if el % 3 == 0]\n",
    "print(lst_mult_3)\n",
    "lst_final = [el for el in lst_mult_3 if el % 4 != 0]\n",
    "print(lst_final)"
   ]
  }
 ],
 "metadata": {
  "kernelspec": {
   "display_name": "Python 3",
   "language": "python",
   "name": "python3"
  },
  "language_info": {
   "codemirror_mode": {
    "name": "ipython",
    "version": 3
   },
   "file_extension": ".py",
   "mimetype": "text/x-python",
   "name": "python",
   "nbconvert_exporter": "python",
   "pygments_lexer": "ipython3",
   "version": "3.7.0"
  }
 },
 "nbformat": 4,
 "nbformat_minor": 2
}
