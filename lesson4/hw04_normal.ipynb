{
 "cells": [
  {
   "cell_type": "code",
   "execution_count": 1,
   "metadata": {},
   "outputs": [
    {
     "name": "stdout",
     "output_type": "stream",
     "text": [
      "['mt', 'm', 'mcq', 'iry', 'hh', 'xq', 'd', 'l', 's', 'kg', 'm', 's', 'v', 'fbmx', 'aysm', 'p', 'ujalp', 'z', 'fw', 'qwksr', 'eip', 'l', 'ecl', 'w', 'okt', 'lf', 'snawvj', 'hfgew', 'z', 'f', 't', 'yd', 'a', 'px', 'j', 'g', 'v', 'oumes', 'vj', 'os', 'fuh', 'u', 'w', 'l', 'dk', 'jf', 'qn', 'xoois', 'ux', 'hyj', 'a', 'wdo', 'nsll', 'ng', 'lmkp', 'lq', 'x', 'qqqg', 'd', 's', 'vqpp', 'fy', 'j', 'apz', 'rfinzzs', 't', 'clwbf', 'zytm', 'g', 'zxv', 'kd', 'a', 'fs', 'f', 'chg', 's', 'n', 'n', 'etek', 'u', 'lu', 'sdelz', 'g', 'zuwiimqk', 'py', 'z', 'y', 'k', 'kdy', 'v', 'jd', 'y', 'fk', 'a', 'bf', 'vz', 'r', 's', 'p', 'tdq', 'lt', 'qc', 'vl', 'z', 'o', 'n', 'w', 'kapx', 'qn', 'f', 'whch', 'd', 'b', 'u', 'b', 'rw', 'y', 'x', 'ctsz', 'j', 'nnda', 'kc', 'm', 'j', 'e', 'dev', 'h', 'h', 'qbj', 'u', 'r', 'yw', 'kmj', 'h', 'ofa', 'puespa', 's', 'qs', 'ex', 'q', 's', 'a', 'cgns', 's', 'xiihws', 'd', 'i', 'a', 'n', 'f', 't', 'h', 'qrvp', 'ii', 'c', 'r', 'k', 'p', 'flw', 'v', 'z', 'tm', 'lm', 'ndi', 'b', 'z', 'k', 'eu', 'kyj', 'si', 'sn', 'ti', 'trb', 'unur', 'g', 'i', 'j', 't', 'n', 'j', 'e', 'i', 'lxn', 'kqf', 'b', 'f', 'u', 'm', 'p', 'kqigx', 'kr', 'pp', 'e', 'xb', 'vq', 'mls', 'yzen', 'o', 'xy', 'vbnh', 'u', 'q', 'jvihu', 'sfn', 'fptv', 'lh', 'hy', 'wx', 'nq', 's', 'd', 'vnuy', 'he', 'p', 'e', 'o', 'i', 'a', 'i', 'gs', 'r', 'e', 'o', 'l', 'v', 'n', 'g', 'mys', 'e', 'n', 'zvd', 'yle', 'yln', 'f', 'j', 'ntltignb', 'oi', 'z', 'w', 'i', 'wycdl', 'fy', 'mk', 'q', 'w', 'rx', 'c']\n"
     ]
    }
   ],
   "source": [
    "# Задание-1:\n",
    "# Вывести символы в нижнем регистре, которые находятся вокруг\n",
    "# 1 или более символов в верхнем регистре.\n",
    "# Т.е. из строки \"mtMmEZUOmcq\" нужно получить ['mt', 'm', 'mcq']\n",
    "# Решить задачу двумя способами: с помощью re и без.\n",
    "\n",
    "line = 'mtMmEZUOmcqWiryMQhhTxqKdSTKCYEJlEZCsGAMkgAYEOmHBSQsSUHKvSfbmxULaysmNO'\\\n",
    "       'GIPHpEMujalpPLNzRWXfwHQqwksrFeipEUlTLeclMwAoktKlfUBJHPsnawvjPhfgewVzK'\\\n",
    "       'TUfSYtBydXaVIpxWjNKgXANvIoumesCSSvjEGRJosUfuhRRDUuTQwLlJJJDdkVjfSAHqn'\\\n",
    "       'LxooisBDWuxIhyjJaXDYwdoVPnsllMngNlmkpYOlqXEFIxPqqqgAWdJsOvqppOfyIVjXa'\\\n",
    "       'pzGOrfinzzsNMtBIOclwbfRzytmDgEFUzxvZGkdOaQYLVBfsGSAfJMchgBWAsGnBnWete'\\\n",
    "       'kUTVuPluKRMQsdelzBgLzuwiimqkFKpyQRzOUyHkXRkdyIEBvTjdByCfkVIAQaAbfCvzQ'\\\n",
    "       'WrMMsYpLtdqRltXPqcSMXJIvlBzKoQnSwPFkapxGqnZCVFfKRLUIGBLOwhchWCdJbRuXb'\\\n",
    "       'JrwTRNyAxDctszKjSnndaFkcBZmJZWjUeYMdevHhBJMBSShDqbjAuDGTTrSXZywYkmjCC'\\\n",
    "       'EUZShGofaFpuespaZWLFNIsOqsIRLexWqTXsOaScgnsUKsJxiihwsCdBViEQBHQaOnLfB'\\\n",
    "       'tQQShTYHFqrvpVFiiEFMcIFTrTkIBpGUflwTvAzMUtmSQQZGHlmQKJndiAXbIzVkGSeuT'\\\n",
    "       'SkyjIGsiWLALHUCsnQtiOtrbQOQunurZgHFiZjWtZCEXZCnZjLeMiFlxnPkqfJFbCfKCu'\\\n",
    "       'UJmGYJZPpRBFNLkqigxFkrRAppYRXeSCBxbGvqHmlsSZMWSVQyzenWoGxyGPvbnhWHuXB'\\\n",
    "       'qHFjvihuNGEEFsfnMXTfptvIOlhKhyYwxLnqOsBdGvnuyEZIheApQGOXWeXoLWiDQNJFa'\\\n",
    "       'XiUWgsKQrDOeZoNlZNRvHnLgCmysUeKnVJXPFIzvdDyleXylnKBfLCjLHntltignbQoiQ'\\\n",
    "'zTYwZAiRwycdlHfyHNGmkNqSwXUrxGc'\n",
    "# Решение c re:\n",
    "import re\n",
    "result = re.findall(r'[A-Z]([a-z]+)',line)\n",
    "result2 = re.findall(r'([a-z]+)[A-Z]',line) ## Так и не смог это сдеать в одну строчку\n",
    "result.insert(0,result2[0])\n",
    "print(result)"
   ]
  },
  {
   "cell_type": "code",
   "execution_count": 78,
   "metadata": {},
   "outputs": [],
   "source": [
    "# Решение без re не получилось"
   ]
  },
  {
   "cell_type": "code",
   "execution_count": 3,
   "metadata": {},
   "outputs": [
    {
     "name": "stdout",
     "output_type": "stream",
     "text": [
      "['AY', 'NOGI', 'P', 'UBJ', 'K', 'C', 'EG', 'RR', 'S', 'B', 'XE', 'G', 'B', 'U', 'KR', 'I', 'VI', 'SMX', 'ZC', 'T', 'CCEU', 'ZWLF', 'I', 'E', 'SQQZ', 'Q', 'WLALH', 'Q', 'Y', 'SZMWS', 'NGE', 'M', 'E', 'H']\n"
     ]
    }
   ],
   "source": [
    "# Задание-2:\n",
    "# Вывести символы в верхнем регистре, слева от которых находятся\n",
    "# два символа в нижнем регистре, а справа - два символа в верхнем регистре.\n",
    "# Т.е. из строки \n",
    "# \"GAMkgAYEOmHBSQsSUHKvSfbmxULaysmNOGIPHpEMujalpPLNzRWXfwHQqwksrFeipEUlTLec\"\n",
    "# нужно получить список строк: ['AY', 'NOGI', 'P']\n",
    "# Решить задачу двумя способами: с помощью re и без.\n",
    "\n",
    "line_2 = 'mtMmEZUOmcqWiryMQhhTxqKdSTKCYEJlEZCsGAMkgAYEOmHBSQsSUHKvSfbmxULaysm'\\\n",
    "       'NOGIPHpEMujalpPLNzRWXfwHQqwksrFeipEUlTLeclMwAoktKlfUBJHPsnawvjPhfgewV'\\\n",
    "       'fzKTUfSYtBydXaVIpxWjNKgXANvIoumesCSSvjEGRJosUfuhRRDUuTQwLlJJJDdkVjfSA'\\\n",
    "       'HqnLxooisBDWuxIhyjJaXDYwdoVPnsllMngNlmkpYOlqXEFIxPqqqgAWdJsOvqppOfyIV'\\\n",
    "       'jXapzGOrfinzzsNMtBIOclwbfRzytmDgEFUzxvZGkdOaQYLVBfsGSAfJMchgBWAsGnBnW'\\\n",
    "       'etekUTVuPluKRMQsdelzBgLzuwiimqkFKpyQRzOUyHkXRkdyIEBvTjdByCfkVIAQaAbfC'\\\n",
    "       'vzQWrMMsYpLtdqRltXPqcSMXJIvlBzKoQnSwPFkapxGqnZCVFfKRLUIGBLOwhchWCdJbR'\\\n",
    "       'uXbJrwTRNyAxDctszKjSnndaFkcBZmJZWjUeYMdevHhBJMBSShDqbjAuDGTTrSXZywYkm'\\\n",
    "       'jCCEUZShGofaFpuespaZWLFNIsOqsIRLexWqTXsOaScgnsUKsJxiihwsCdBViEQBHQaOn'\\\n",
    "       'LfBtQQShTYHFqrvpVFiiEFMcIFTrTkIBpGUflwTvAzMUtmSQQZGHlmQKJndiAXbIzVkGS'\\\n",
    "       'euTSkyjIGsiWLALHUCsnQtiOtrbQOQunurZgHFiZjWtZCEXZCnZjLeMiFlxnPkqfJFbCf'\\\n",
    "       'KCuUJmGYJZPpRBFNLkqigxFkrRAppYRXeSCBxbGvqHmlsSZMWSVQyzenWoGxyGPvbnhWH'\\\n",
    "       'uXBqHFjvihuNGEEFsfnMXTfptvIOlhKhyYwxLnqOsBdGvnuyEZIheApQGOXWeXoLWiDQN'\\\n",
    "       'JFaXiUWgsKQrDOeZoNlZNRvHnLgCmysUeKnVJXPFIzvdDyleXylnKBfLCjLHntltignbQ'\\\n",
    "'oiQzTYwZAiRwycdlHfyHNGmkNqSwXUrxGC'\n",
    "# Решение c re:\n",
    "import re\n",
    "result_2 = re.findall(r'[a-z]{2}([A-Z]+)[A-Z]{2}',line_2)\n",
    "print(result_2)"
   ]
  },
  {
   "cell_type": "code",
   "execution_count": 4,
   "metadata": {},
   "outputs": [],
   "source": [
    "# Решение без re не получилось"
   ]
  },
  {
   "cell_type": "code",
   "execution_count": null,
   "metadata": {},
   "outputs": [],
   "source": [
    "# Задание-3:\n",
    "# Напишите скрипт, заполняющий указанный файл (самостоятельно задайте имя файла)\n",
    "# произвольными целыми цифрами, в результате в файле должно быть\n",
    "# 2500-значное произвольное число.\n",
    "# Найдите и выведите самую длинную последовательность одинаковых цифр\n",
    "# в вышезаполненном файле.\n",
    "\n",
    "# Не успел решить"
   ]
  }
 ],
 "metadata": {
  "kernelspec": {
   "display_name": "Python 3",
   "language": "python",
   "name": "python3"
  },
  "language_info": {
   "codemirror_mode": {
    "name": "ipython",
    "version": 3
   },
   "file_extension": ".py",
   "mimetype": "text/x-python",
   "name": "python",
   "nbconvert_exporter": "python",
   "pygments_lexer": "ipython3",
   "version": "3.7.0"
  }
 },
 "nbformat": 4,
 "nbformat_minor": 2
}
